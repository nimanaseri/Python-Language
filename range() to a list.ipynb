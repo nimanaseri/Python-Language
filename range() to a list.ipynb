{
  "cells": [
    {
      "cell_type": "markdown",
      "metadata": {
        "id": "view-in-github",
        "colab_type": "text"
      },
      "source": [
        "<a href=\"https://colab.research.google.com/github/nimanaseri/Python-Language/blob/main/range()_to_a_list.ipynb\" target=\"_parent\"><img src=\"https://colab.research.google.com/assets/colab-badge.svg\" alt=\"Open In Colab\"/></a>"
      ]
    },
    {
      "cell_type": "markdown",
      "source": [
        "Python does not unpack the result of the range() function.\n",
        "\n",
        "So we have to use argument-unpacking operator i.e. *."
      ],
      "metadata": {
        "id": "2e3wPj1-4d6W"
      }
    },
    {
      "cell_type": "code",
      "source": [
        "a = [*range(0,50,2)]\n",
        "print (a)"
      ],
      "metadata": {
        "colab": {
          "base_uri": "https://localhost:8080/"
        },
        "id": "k3WNPLab4cQn",
        "outputId": "0cabd03d-9ee2-4327-ed59-b1448a0cbfcd"
      },
      "execution_count": 22,
      "outputs": [
        {
          "output_type": "stream",
          "name": "stdout",
          "text": [
            "[0, 2, 4, 6, 8, 10, 12, 14, 16, 18, 20, 22, 24, 26, 28, 30, 32, 34, 36, 38, 40, 42, 44, 46, 48]\n"
          ]
        }
      ]
    },
    {
      "cell_type": "markdown",
      "source": [
        "USE AN ASTERISK TO PRINT A RANGE ON ONE LINE"
      ],
      "metadata": {
        "id": "fnWkV18m3JsN"
      }
    },
    {
      "cell_type": "code",
      "source": [
        "a = range(0,30,2)\n",
        "print (*a)"
      ],
      "metadata": {
        "colab": {
          "base_uri": "https://localhost:8080/"
        },
        "id": "sHt_yaQX4R8z",
        "outputId": "2ac1a89a-e536-4ff2-8616-66c6a4062807"
      },
      "execution_count": 21,
      "outputs": [
        {
          "output_type": "stream",
          "name": "stdout",
          "text": [
            "0 2 4 6 8 10 12 14 16 18 20 22 24 26 28\n"
          ]
        }
      ]
    },
    {
      "cell_type": "markdown",
      "source": [
        "USE A FOR-LOOP TO PRINT A RANGE ON SEPARATE LINES"
      ],
      "metadata": {
        "id": "JOhJThuz4CWu"
      }
    },
    {
      "cell_type": "code",
      "source": [
        "for i in range(0,30,2):\n",
        "  print(i)"
      ],
      "metadata": {
        "colab": {
          "base_uri": "https://localhost:8080/"
        },
        "id": "GdO0pQyB32mh",
        "outputId": "6f52c912-7102-44e6-9221-9a468738b796"
      },
      "execution_count": 20,
      "outputs": [
        {
          "output_type": "stream",
          "name": "stdout",
          "text": [
            "0\n",
            "2\n",
            "4\n",
            "6\n",
            "8\n",
            "10\n",
            "12\n",
            "14\n",
            "16\n",
            "18\n",
            "20\n",
            "22\n",
            "24\n",
            "26\n",
            "28\n"
          ]
        }
      ]
    }
  ],
  "metadata": {
    "colab": {
      "name": "range() to a list.ipynb",
      "provenance": [],
      "authorship_tag": "ABX9TyPESUOvPp0+Bs0qDg5hPwe6",
      "include_colab_link": true
    },
    "kernelspec": {
      "display_name": "Python 3",
      "name": "python3"
    },
    "language_info": {
      "name": "python"
    }
  },
  "nbformat": 4,
  "nbformat_minor": 0
}
