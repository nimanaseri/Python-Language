{
  "nbformat": 4,
  "nbformat_minor": 0,
  "metadata": {
    "colab": {
      "name": "Python end Parameter",
      "provenance": [],
      "collapsed_sections": [],
      "authorship_tag": "ABX9TyO+6O1gpZszGnzWd2K9EGPD",
      "include_colab_link": true
    },
    "kernelspec": {
      "name": "python3",
      "display_name": "Python 3"
    },
    "language_info": {
      "name": "python"
    }
  },
  "cells": [
    {
      "cell_type": "markdown",
      "metadata": {
        "id": "view-in-github",
        "colab_type": "text"
      },
      "source": [
        "<a href=\"https://colab.research.google.com/github/nimanaseri/Python-Language/blob/main/Python_end_Parameter.ipynb\" target=\"_parent\"><img src=\"https://colab.research.google.com/assets/colab-badge.svg\" alt=\"Open In Colab\"/></a>"
      ]
    },
    {
      "cell_type": "markdown",
      "source": [
        "***Python end Parameter***\n",
        "\n",
        "The end parameter is used to append a string to the output of print() when printing of one statement is done. But ever wondered why after every print statement, the cursor moves to next line? This is because the print statement comes with a default value of end parameter that is ‘\\n’.\n",
        "\n",
        "‘\\n’ is a special character sequence called an escape character. This escape character appends a newline after the print statement. Thus we get the output in the next line."
      ],
      "metadata": {
        "id": "Ib0n5mPgsB1T"
      }
    },
    {
      "cell_type": "markdown",
      "source": [
        "Example 1: Without Changing end Parameter Value:"
      ],
      "metadata": {
        "id": "d3Db6fR9sQlC"
      }
    },
    {
      "cell_type": "markdown",
      "source": [
        "Explanation:\n",
        "\n",
        "In the below code, we printed two statements. But the 2nd statements was printed on the new line. This is because ‘end’ statement default value is ‘\\n’ which. And thus the 2nd print statement is printed on the new line."
      ],
      "metadata": {
        "id": "SDLy3MeRsaDf"
      }
    },
    {
      "cell_type": "code",
      "source": [
        "print(\"Hello world\")\n",
        "print(\"Welcome to stechies\")"
      ],
      "metadata": {
        "colab": {
          "base_uri": "https://localhost:8080/"
        },
        "id": "K5RtZ9ZzsScO",
        "outputId": "976e0cd8-3e13-416b-f144-580aabc191b1"
      },
      "execution_count": null,
      "outputs": [
        {
          "output_type": "stream",
          "name": "stdout",
          "text": [
            "Hello world\n",
            "Welcome to stechies\n"
          ]
        }
      ]
    },
    {
      "cell_type": "markdown",
      "source": [
        "Example 2: Changing end Value to a White-space:\n",
        "\n",
        "Explanation:\n",
        "\n",
        "In the below code, we changed the default value of ‘end’ statement from ‘\\n’ to a white-space. Thus the 2nd print statement is not printed on the new line."
      ],
      "metadata": {
        "id": "8OQbP1f8sbjk"
      }
    },
    {
      "cell_type": "code",
      "source": [
        "print(\"Hello world\" , end = ' ') \n",
        "print(\"Welcome to stechies\", end = ' ')"
      ],
      "metadata": {
        "colab": {
          "base_uri": "https://localhost:8080/"
        },
        "id": "cTKbrm74rxpp",
        "outputId": "cecfc9d4-505a-4f08-e361-f2f23525bfba"
      },
      "execution_count": null,
      "outputs": [
        {
          "output_type": "stream",
          "name": "stdout",
          "text": [
            "Hello world Welcome to stechies "
          ]
        }
      ]
    },
    {
      "cell_type": "code",
      "source": [
        "print(\"Hello world\" , end = ' ') \n",
        "print(\"Welcome to stechies\")"
      ],
      "metadata": {
        "colab": {
          "base_uri": "https://localhost:8080/"
        },
        "id": "ejQhxiVNr2VL",
        "outputId": "428c7534-e392-4e62-97c3-431939561e8b"
      },
      "execution_count": null,
      "outputs": [
        {
          "output_type": "stream",
          "name": "stdout",
          "text": [
            "Hello world Welcome to stechies\n"
          ]
        }
      ]
    },
    {
      "cell_type": "code",
      "source": [
        "print(\"Hello world\" , end = ' gh ') \n",
        "print(\"Welcome to stechies\", end = ' ')"
      ],
      "metadata": {
        "colab": {
          "base_uri": "https://localhost:8080/"
        },
        "id": "lDrlS2Q7r22g",
        "outputId": "c7c2d7a4-a176-4cda-f305-5e38348fbc64"
      },
      "execution_count": null,
      "outputs": [
        {
          "output_type": "stream",
          "name": "stdout",
          "text": [
            "Hello world gh Welcome to stechies "
          ]
        }
      ]
    },
    {
      "cell_type": "code",
      "source": [
        "print(\"Hello world\") \n",
        "print(\"Welcome to stechies\", end = ' ')"
      ],
      "metadata": {
        "colab": {
          "base_uri": "https://localhost:8080/"
        },
        "id": "L4vHhB4_r25M",
        "outputId": "0b8d1541-9b85-4bb0-e249-03a47bccabcf"
      },
      "execution_count": null,
      "outputs": [
        {
          "output_type": "stream",
          "name": "stdout",
          "text": [
            "Hello world\n",
            "Welcome to stechies "
          ]
        }
      ]
    },
    {
      "cell_type": "code",
      "source": [
        "print(\"Hello world\" , end = '  ') \n",
        "print(\"Welcome to stechies\", end = ' gh ')"
      ],
      "metadata": {
        "colab": {
          "base_uri": "https://localhost:8080/"
        },
        "id": "yjQxyehAr27s",
        "outputId": "14b1a62b-6296-4bb1-9696-7adbd96add08"
      },
      "execution_count": null,
      "outputs": [
        {
          "output_type": "stream",
          "name": "stdout",
          "text": [
            "Hello world  Welcome to stechies gh "
          ]
        }
      ]
    }
  ]
}
