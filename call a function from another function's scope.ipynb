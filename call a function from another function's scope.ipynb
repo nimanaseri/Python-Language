{
  "nbformat": 4,
  "nbformat_minor": 0,
  "metadata": {
    "colab": {
      "name": "call a function from another function's scope",
      "provenance": [],
      "collapsed_sections": [],
      "authorship_tag": "ABX9TyN/ZD9V+0JCqb1zya7I69LA",
      "include_colab_link": true
    },
    "kernelspec": {
      "name": "python3",
      "display_name": "Python 3"
    },
    "language_info": {
      "name": "python"
    }
  },
  "cells": [
    {
      "cell_type": "markdown",
      "metadata": {
        "id": "view-in-github",
        "colab_type": "text"
      },
      "source": [
        "<a href=\"https://colab.research.google.com/github/nimanaseri/Python-Language/blob/main/call_a_function_from_another_function's_scope.ipynb\" target=\"_parent\"><img src=\"https://colab.research.google.com/assets/colab-badge.svg\" alt=\"Open In Colab\"/></a>"
      ]
    },
    {
      "cell_type": "markdown",
      "source": [
        "***call a function from another function's scope***\n",
        "\n",
        "using for loop"
      ],
      "metadata": {
        "id": "trjgFoBVm86t"
      }
    },
    {
      "cell_type": "code",
      "execution_count": null,
      "metadata": {
        "colab": {
          "base_uri": "https://localhost:8080/"
        },
        "id": "JfhzYs1GRFCv",
        "outputId": "6aad91be-dc4f-413c-a6aa-05d474b22713"
      },
      "outputs": [
        {
          "output_type": "stream",
          "name": "stdout",
          "text": [
            "[0, 2, 8, 18, 32]\n"
          ]
        }
      ],
      "source": [
        "# call a function from another function's scope.\n",
        "# (using for loop)\n",
        "a = []\n",
        "def f(x):\n",
        "    for i in range(x):\n",
        "        t = i**2\n",
        "        a.append(t)\n",
        "    return h(a)\n",
        "\n",
        "b = []\n",
        "def h(x):\n",
        "    for i in a:\n",
        "        b.append(i*2)\n",
        "    return b\n",
        "\n",
        "c = f(5)\n",
        "print (c)"
      ]
    }
  ]
}
