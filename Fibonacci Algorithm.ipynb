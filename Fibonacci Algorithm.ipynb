{
  "nbformat": 4,
  "nbformat_minor": 0,
  "metadata": {
    "colab": {
      "name": "Fibonacci Algorithm",
      "provenance": [],
      "collapsed_sections": [],
      "authorship_tag": "ABX9TyNskaWa/yM/J8+vc2JY25hn",
      "include_colab_link": true
    },
    "kernelspec": {
      "name": "python3",
      "display_name": "Python 3"
    },
    "language_info": {
      "name": "python"
    }
  },
  "cells": [
    {
      "cell_type": "markdown",
      "metadata": {
        "id": "view-in-github",
        "colab_type": "text"
      },
      "source": [
        "<a href=\"https://colab.research.google.com/github/nimanaseri/Python-Language/blob/main/Fibonacci_Algorithm.ipynb\" target=\"_parent\"><img src=\"https://colab.research.google.com/assets/colab-badge.svg\" alt=\"Open In Colab\"/></a>"
      ]
    },
    {
      "cell_type": "markdown",
      "source": [
        "***Fibonacci series using recrusion***"
      ],
      "metadata": {
        "id": "TwzrvBN2d51s"
      }
    },
    {
      "cell_type": "code",
      "source": [
        "def fib(n):\n",
        "  if n <= 1:\n",
        "    return n\n",
        "  else:\n",
        "    return fib(n-1) + fib(n-2)\n",
        "nterms = range(0,11)\n",
        "for i in nterms:\n",
        "  if i <= 0:\n",
        "    print(\"pls try your chance again\")\n",
        "  else:\n",
        "    print(fib(i))"
      ],
      "metadata": {
        "colab": {
          "base_uri": "https://localhost:8080/"
        },
        "id": "eUaK2nnPhkgy",
        "outputId": "ece89f6a-c79a-4da8-89d7-1cfac53c1122"
      },
      "execution_count": null,
      "outputs": [
        {
          "output_type": "stream",
          "name": "stdout",
          "text": [
            "pls try your chance again\n",
            "1\n",
            "1\n",
            "2\n",
            "3\n",
            "5\n",
            "8\n",
            "13\n",
            "21\n",
            "34\n",
            "55\n"
          ]
        }
      ]
    },
    {
      "cell_type": "code",
      "source": [
        "def fib_serie(x):\n",
        "  if x<= 1:\n",
        "    return x\n",
        "  return(fib_serie(x-1) + fib_serie(x-2))\n",
        "num = int(input(\"the number of fib_serie function \"))\n",
        "a =[fib_serie(i) for i in range(num)]\n",
        "print(a)\n",
        "len(a)"
      ],
      "metadata": {
        "colab": {
          "base_uri": "https://localhost:8080/"
        },
        "id": "EHy3yxOWZhaU",
        "outputId": "1238abe9-eefd-4677-e4e4-5eef7deb904a"
      },
      "execution_count": null,
      "outputs": [
        {
          "output_type": "stream",
          "name": "stdout",
          "text": [
            "the number of fib_serie function 13\n",
            "[0, 1, 1, 2, 3, 5, 8, 13, 21, 34, 55, 89, 144]\n"
          ]
        },
        {
          "output_type": "execute_result",
          "data": {
            "text/plain": [
              "13"
            ]
          },
          "metadata": {},
          "execution_count": 8
        }
      ]
    },
    {
      "cell_type": "markdown",
      "source": [
        "***exercise by input() instead of range :***"
      ],
      "metadata": {
        "id": "CFORTFNqg5ng"
      }
    },
    {
      "cell_type": "code",
      "source": [
        "nterms = int(input(\"the number of fib_serie function \"))\n",
        "a = [\"pls try your chance again\" if i <= 0 else i**2 for i in range(nterms)]\n",
        "print(a)"
      ],
      "metadata": {
        "colab": {
          "base_uri": "https://localhost:8080/"
        },
        "id": "CIAYbGXceS6V",
        "outputId": "02903431-dcbd-4ffb-9571-60c50a4437f2"
      },
      "execution_count": null,
      "outputs": [
        {
          "output_type": "stream",
          "name": "stdout",
          "text": [
            "the number of fib_serie function 15\n",
            "['pls try your chance again', 1, 4, 9, 16, 25, 36, 49, 64, 81, 100, 121, 144, 169, 196]\n"
          ]
        }
      ]
    },
    {
      "cell_type": "markdown",
      "source": [
        "***Fibonacci series using for loop***"
      ],
      "metadata": {
        "id": "0AorjtBirC_n"
      }
    },
    {
      "cell_type": "code",
      "source": [
        "a = int(input(\"Enter the terms \"))\n",
        "f = 0\n",
        "s = 1\n",
        "print(f,s, end =' ')\n",
        "for i in range(2,a):\n",
        "  next = f + s\n",
        "  print(next, end = ' ')\n",
        "  f = s\n",
        "  s = next"
      ],
      "metadata": {
        "id": "SaYVUn13rUcs",
        "colab": {
          "base_uri": "https://localhost:8080/"
        },
        "outputId": "0e05492c-7e10-44cb-aa89-9f6a8132ec57"
      },
      "execution_count": 1,
      "outputs": [
        {
          "output_type": "stream",
          "name": "stdout",
          "text": [
            "Enter the terms 15\n",
            "0 1 1 2 3 5 8 13 21 34 55 89 144 233 377 "
          ]
        }
      ]
    }
  ]
}
