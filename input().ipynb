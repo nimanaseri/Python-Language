{
  "nbformat": 4,
  "nbformat_minor": 0,
  "metadata": {
    "colab": {
      "name": "input()",
      "provenance": [],
      "collapsed_sections": [],
      "authorship_tag": "ABX9TyN6q/jAANtcBOaNXGnloSDH",
      "include_colab_link": true
    },
    "kernelspec": {
      "name": "python3",
      "display_name": "Python 3"
    },
    "language_info": {
      "name": "python"
    }
  },
  "cells": [
    {
      "cell_type": "markdown",
      "metadata": {
        "id": "view-in-github",
        "colab_type": "text"
      },
      "source": [
        "<a href=\"https://colab.research.google.com/github/nimanaseri/Python-Language/blob/main/input().ipynb\" target=\"_parent\"><img src=\"https://colab.research.google.com/assets/colab-badge.svg\" alt=\"Open In Colab\"/></a>"
      ]
    },
    {
      "cell_type": "markdown",
      "source": [
        "input() ---> built in function\n",
        "\n"
      ],
      "metadata": {
        "id": "MSXWoFhpbu8E"
      }
    },
    {
      "cell_type": "code",
      "source": [
        "# input()\n",
        "\n",
        "value1 = input(\"a kind of string \")\n",
        "print(type(value1))\n",
        "print (value1)\n",
        "\n",
        "value2 = input('number ')\n",
        "print(type(value2))\n",
        "print (value2)\n",
        "\n",
        "value3 = int(input(\"number \"))\n",
        "print(type(value3))\n",
        "print(value3)\n",
        "\n",
        "value4 = float(input(\"number \"))\n",
        "print(type(value4))\n",
        "print(value4)"
      ],
      "metadata": {
        "colab": {
          "base_uri": "https://localhost:8080/"
        },
        "id": "X2YMra6uYPMS",
        "outputId": "ce97d2a9-9da4-49ff-8998-212f2b73a597"
      },
      "execution_count": null,
      "outputs": [
        {
          "output_type": "stream",
          "name": "stdout",
          "text": [
            "a kind of string NIMA\n",
            "<class 'str'>\n",
            "NIMA\n",
            "number 1\n",
            "<class 'str'>\n",
            "1\n",
            "number 1\n",
            "<class 'int'>\n",
            "1\n",
            "number 1\n",
            "<class 'float'>\n",
            "1.0\n"
          ]
        }
      ]
    }
  ]
}