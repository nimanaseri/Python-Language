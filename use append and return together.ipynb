{
  "nbformat": 4,
  "nbformat_minor": 0,
  "metadata": {
    "colab": {
      "name": "use append and return together",
      "provenance": [],
      "collapsed_sections": [],
      "authorship_tag": "ABX9TyPRP1PnVdLf8C6LpWki3vxX",
      "include_colab_link": true
    },
    "kernelspec": {
      "name": "python3",
      "display_name": "Python 3"
    },
    "language_info": {
      "name": "python"
    }
  },
  "cells": [
    {
      "cell_type": "markdown",
      "metadata": {
        "id": "view-in-github",
        "colab_type": "text"
      },
      "source": [
        "<a href=\"https://colab.research.google.com/github/nimanaseri/Python-Language/blob/main/use_append_and_return_together.ipynb\" target=\"_parent\"><img src=\"https://colab.research.google.com/assets/colab-badge.svg\" alt=\"Open In Colab\"/></a>"
      ]
    },
    {
      "cell_type": "markdown",
      "source": [
        "**use append and return together in def**\n",
        "\n",
        "first of all you should create an empty list, then locate append and return in separate lines.\n",
        "\n",
        "OR\n",
        "\n",
        "should write code like list comprehension, then in seperate line, return that.\n"
      ],
      "metadata": {
        "id": "wuJmj4zEqMgv"
      }
    },
    {
      "cell_type": "code",
      "execution_count": 1,
      "metadata": {
        "id": "kHKq9WrtVwGY",
        "colab": {
          "base_uri": "https://localhost:8080/"
        },
        "outputId": "1be17850-9758-46a7-9287-7fc7758ad6d0"
      },
      "outputs": [
        {
          "output_type": "stream",
          "name": "stdout",
          "text": [
            "[1, 1, 2, 3, 5, 8, 13, 21, 34, 55, 89, 144]\n"
          ]
        }
      ],
      "source": [
        "\n",
        "def f(x):\n",
        "  if x<=1:\n",
        "    return 1\n",
        "  return f(x-1) + f(x-2)\n",
        "\n",
        "def g(x):\n",
        "  a = [f(t) for t in range(x)]\n",
        "  return a\n",
        "\n",
        "a = g(12)\n",
        "\n",
        "print(a)"
      ]
    },
    {
      "cell_type": "code",
      "source": [
        "def fib(x):\n",
        "  if x==0 or x==1:\n",
        "    return 1\n",
        "  return fib(x-1) + fib(x-2)\n",
        "\n",
        "a = fib(10)\n",
        "print(a)"
      ],
      "metadata": {
        "colab": {
          "base_uri": "https://localhost:8080/"
        },
        "id": "K8uew5KJqYNr",
        "outputId": "bc207e56-a36e-47c7-da92-dd7684dbcffe"
      },
      "execution_count": 2,
      "outputs": [
        {
          "output_type": "stream",
          "name": "stdout",
          "text": [
            "89\n"
          ]
        }
      ]
    },
    {
      "cell_type": "code",
      "source": [
        "a = []\n",
        "def Fib(x):\n",
        "    t = 0\n",
        "    while t<x:\n",
        "        if t==0 or t==1:\n",
        "          a.append(1)\n",
        "          t += 1\n",
        "          continue\n",
        "        else:\n",
        "            a.append(t)\n",
        "        t += a[-1]\n",
        "Fib(17)\n",
        "print (a)"
      ],
      "metadata": {
        "colab": {
          "base_uri": "https://localhost:8080/"
        },
        "id": "gY073k10qaN2",
        "outputId": "4e197f74-ac41-4399-a773-a67a3285783d"
      },
      "execution_count": 3,
      "outputs": [
        {
          "output_type": "stream",
          "name": "stdout",
          "text": [
            "[1, 1, 2, 4, 8, 16]\n"
          ]
        }
      ]
    }
  ]
}
